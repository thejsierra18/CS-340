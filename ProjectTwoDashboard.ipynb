from jupyter_plotly_dash import JupyterDash

import dash
import dash_leaflet as dl
import dash_core_components as dcc
import dash_html_components as html
import plotly.express as px
import dash_table as dt
from dash.dependencies import Input, Output, State
import base64

import os
import numpy as np
import pandas as pd
from pymongo import MongoClient
from bson.json_util import dumps

# change animal_shelter and AnimalShelter to match your CRUD Python module file name and class name
from AAC import AnimalShelter


###########################
# Data Manipulation / Model
###########################
# FIX ME change for your username and password and CRUD Python module name
username = "aacuser1"
password = "MongoPwd"
shelter = AnimalShelter(username, password)


# class read method must support return of cursor object 
df = pd.DataFrame.from_records(shelter.read_all({}))



#########################
# Dashboard Layout / View
#########################
app = JupyterDash('SimpleExample')

#Add in Grazioso Salvare’s logo
image_filename = 'Grazioso Salvare Logo.png' # replace with your own image
encoded_image = base64.b64encode(open(image_filename, 'rb').read())

#Place the HTML image tag in the line below into the app.layout code according to your design
#Also remember to include a unique identifier such as your name or date
#html.Img(src='data:image/png;base64,{}'.format(encoded_image.decode()))

app.layout = html.Div([
    html.Div(id='hidden-div', style={'display':'none'}),
    html.Center(html.B(html.H1('SNHU CS-340 Dashboard'))),
    html.Img(src='data:image/png;base64,{}'.format(encoded_image.decode())),
    html.Hr(),
    #Add in code for the interactive filtering options. For example, Radio buttons, drop down, checkboxes, etc.
    html.Div(className='row',
             style={'display' : 'flex'},
             children=[
                     html.Button(id='submit-button-one', n_clicks=0, children='Water Rescue'),
                     html.Button(id='submit-button-two', n_clicks=0, children='Mountain/Wilderness Rescue'),
                     html.Button(id='submit-button-three', n_clicks=0, children='Disaster Rescue/Individual Tracking'),
                     html.Button(id='submit-button-four', n_clicks=0, children='Reset')
                 ]),
    
    html.Hr(),
    
    dt.DataTable(
        id='datatable-id',
        columns=[
            {"name": i, "id": i, "deletable": False, "selectable": True} for i in df.columns
        ],
        data=df.to_dict('records'),
        
#Set up the features for your interactive data table to make it user-friendly for your client
 
        editable=False,
        filter_action="native",
        sort_action="native",
        sort_mode="multi",
        column_selectable=False,
        row_selectable="multi",
        row_deletable=False,
        selected_columns=[],
        selected_rows=[],
        page_action="native",
        page_current=0,
        page_size=10
    ),
    
    html.Br(),
    html.Hr(),
#This sets up the dashboard so that your chart and your geolocation chart are side-by-side
    html.Div(className='row',
         style={'display' : 'flex'},
             children=[
        html.Div(
            id='graph-id',
            className='col s12 m6',

            ),
        html.Div(
            id='map-id',
            className='col s12 m6',
            )
        ]),
    html.Header(html.P("Jorge Sierra"))
])

#############################################
# Interaction Between Components / Controller
#############################################


    
@app.callback([Output('datatable-id','data'),
               Output('datatable-id','columns')],
              [Input('submit-button-one', 'n_clicks'),
               Input('submit-button-two', 'n_clicks'),
               Input('submit-button-three', 'n_clicks'),
               Input('submit-button-four', 'n_clicks')
              ])
def update_dashboard(bt1, bt2, bt3, bt4):
###Add code to filter interactive data table with MongoDB queries
        # default
        if (int(bt1) == 0 and int(bt2) == 0 and int(bt3) == 0 and int(bt4) == 0):
            df = pd.DataFrame.from_records(shelter.read_all({}))
        # buttton Water Rescue is pressed
        elif (int(bt1) > int(bt2) and int(bt1) > int(bt3) and int(bt1) > int(bt4)):
            df = pd.DataFrame(list(shelter.read_all(
            {"animal_type":"Dog",
             "breed":{"$in":["Labrador Retriever Mix", "Chesapeake Bay Retriever", "Newfoundland"]},
             "sex_upon_outcome":"Intact Female",
             "age_upon_outcome_in_weeks": {"$gte": 26, "$lte": 156}    
            })))
        
        # button Mountain Rescue is pressed
        elif (int(bt2) > int(bt1) and int(bt2) > int(bt3) and int(bt2) > int(bt4)):
            df = pd.DataFrame(list(shelter.read_all(
            {"animal_type":"Dog",
             "breed":{"$in":["German Shepherd", "Alaskan Malamute", "Old English Sheepdog", "Siberian Husky", "Rottweiler"]},
             "sex_upon_outcome":"Intact Male",
             "age_upon_outcome_in_weeks": {"$gte": 26, "$lte": 156}    
            })))

        # button Disaster Rescue is pressed
        elif (int(bt3) > int(bt1) and int(bt3) > int(bt2) and int(bt3) > int(bt4)):
            df = pd.DataFrame(list(shelter.read_all(
            {"animal_type":"Dog",
             "breed":{"$in":["Doberman Pinscher", "German Shepherd", "Golden Retriever", "Bloodhound", "Rottweiler"]},
             "sex_upon_outcome":"Intact Male",
             "age_upon_outcome_in_weeks": {"$gte": 20, "$lte": 300}    
            })))
        
        # button Reset is pressed
        elif (int(bt4) > int(bt1) and int(bt4) > int(bt2) and int(bt4) > int(bt3)):
            df = pd.DataFrame.from_records(shelter.read_all({}))
            
        columns=[{"name": i, "id": i, "deletable": False, "selectable": True} for i in df.columns]
        data=df.to_dict('records')
    
        return (data,columns)


@app.callback(
    Output('datatable-id', 'style_data_conditional'),
    [Input('datatable-id', 'selected_columns')]
)
def update_styles(selected_columns):
    return [{
        'if': { 'column_id': i },
        'background_color': '#D2F3FF'
    } for i in selected_columns]

@app.callback(
    Output('graph-id', "children"),
    [Input('datatable-id', "derived_viewport_data")])
def update_graphs(viewData):
    # add code for chart of your choice (e.g. pie chart) #
    dff = pd.DataFrame.from_dict(viewData)
    chart = px.pie(data_frame = dff, values = 'age_upon_outcome_in_weeks', names='breed')
    return dcc.Graph(figure = chart)

@app.callback(
    Output('map-id', "children"),
    [Input('datatable-id', "derived_viewport_data")])
def update_map(viewData):
#Add in the code for your geolocation chart

    dff = pd.DataFrame.from_dict(viewData)
    return [
        dl.Map(style={'width': '1000px', 'height': '500px'}, center=[30.75, -97.48], zoom=10, children = [
            dl.TileLayer(id="base-layer-id"),
            dl.Marker(position=[30.75,-97.48], children=[
               dl.Tooltip(dff.iloc[0,4]),
                dl.Popup([
                    html.H1(dff.iloc[0,3]),
                    html.P(dff.iloc[0,3]),
                    html.P(dff.iloc[0,4]),
                    html.P(dff.iloc[0,12])
                ])
            ])
        ])
    ]


app