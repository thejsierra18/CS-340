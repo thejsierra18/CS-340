from AAC import AnimalShelter
from bson.objectid import ObjectId

username = 'jorge'
password = 'MongoPwd'
    
shelter = AnimalShelter(username, password)
    
data = {"animal_id": "Z000000", "animal_type": "Dog", "breed": "Test Creation" }
query = {"animal_id": "Z000000"}
updateData = {"$set": {"breed": "Updated Creation"}}
    
shelter.create(data)
    
shelter.read(query)

shelter.update(query, updateData)

shelter.delete(query)